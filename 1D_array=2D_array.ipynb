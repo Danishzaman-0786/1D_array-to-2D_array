{
  "nbformat": 4,
  "nbformat_minor": 0,
  "metadata": {
    "colab": {
      "provenance": []
    },
    "kernelspec": {
      "name": "python3",
      "display_name": "Python 3"
    },
    "language_info": {
      "name": "python"
    }
  },
  "cells": [
    {
      "cell_type": "code",
      "source": [
        "p=int(input(\"element in array...R=\"))\n",
        "v=[i for i in range(1,p+1)]\n",
        "print(v)\n",
        "print(\"rows and column\")\n",
        "m=int(input(\"rows=\"))\n",
        "n=int(input(\"col=\"))\n",
        "k=0\n",
        "if m*n == len(v):\n",
        "    w=[[0 for i in range(n)] for j in range(m)]\n",
        "    for i in range(m):\n",
        "       for j in range(n):\n",
        "         w[i][j]=v[k]\n",
        "         k=k+1\n",
        "    print(\"then | answer\")\n",
        "    print(\"   \")\n",
        "\n",
        "    print(w)\n",
        "else:\n",
        "    print(\"invailid\")"
      ],
      "metadata": {
        "colab": {
          "base_uri": "https://localhost:8080/"
        },
        "id": "FuzP6BODmL-s",
        "outputId": "bac82fc6-8b00-4177-8b2a-e2874220e0fa"
      },
      "execution_count": null,
      "outputs": [
        {
          "output_type": "stream",
          "name": "stdout",
          "text": [
            "element in array...R=12\n",
            "[1, 2, 3, 4, 5, 6, 7, 8, 9, 10, 11, 12]\n",
            "rows and column\n",
            "rows=2\n",
            "col=6\n",
            "then | answer\n",
            "   \n",
            "[[1, 2, 3, 4, 5, 6], [7, 8, 9, 10, 11, 12]]\n"
          ]
        }
      ]
    }
  ]
}